{
  "metadata": {
    "kernelspec": {
      "name": "python",
      "display_name": "Python (Pyodide)",
      "language": "python"
    },
    "language_info": {
      "codemirror_mode": {
        "name": "python",
        "version": 3
      },
      "file_extension": ".py",
      "mimetype": "text/x-python",
      "name": "python",
      "nbconvert_exporter": "python",
      "pygments_lexer": "ipython3",
      "version": "3.8"
    }
  },
  "nbformat_minor": 4,
  "nbformat": 4,
  "cells": [
    {
      "cell_type": "code",
      "source": "%pip install openai==0.28",
      "metadata": {
        "trusted": true
      },
      "outputs": [],
      "execution_count": null
    },
    {
      "cell_type": "code",
      "source": "from getpass import getpass",
      "metadata": {
        "trusted": true
      },
      "outputs": [],
      "execution_count": null
    },
    {
      "cell_type": "code",
      "source": "from getpass import getpass\nimport os\nimport openai\nimport datetime",
      "metadata": {
        "trusted": true
      },
      "outputs": [],
      "execution_count": null
    },
    {
      "cell_type": "code",
      "source": "# Solicitud de API KEY\nopenai.api_key = getpass(\"Escribe tu API Key aqui:\")",
      "metadata": {
        "trusted": true
      },
      "outputs": [],
      "execution_count": null
    },
    {
      "cell_type": "code",
      "source": "# Contexto\ncontext = 'Actuarás como un asistente especializado en branding. Tu propósito será ayudar a desarrollar identidades corporativas sólidas y coherentes, alineadas con los objetivos estratégicos del usuario. Brindarás orientación en la conceptualización de nombres, logotipos, paletas de colores, tipografía, y elementos visuales clave. Además, generarás imágenes para logotipos personalizados o, en su defecto, buscarás y compartirás enlaces relevantes si el material solicitado existe en fuentes confiables disponibles en los resultados de búsqueda de Google.'\n\n# Prompt (input del usuario)\nprompt = \"Asistente, realiza la creacion de el logo, nombre y tipografia de una startup llamada UrbanSphere, especializada en mobiliario urbano moderno y sostenible.\"",
      "metadata": {
        "trusted": true
      },
      "outputs": [],
      "execution_count": null
    },
    {
      "cell_type": "code",
      "source": "# Realizar Peticion\nconversation = [\n    {\"role\": \"system\", \"content\": context},\n    {\"role\": \"user\", \"content\": prompt}\n]\n\nresponse = openai.ChatCompletion.create(\n    model='gpt-3.5-turbo',\n    messages=conversation,\n    max_tokens=500,\n)\n\nmessage = response.choices[0]['message']\nprint(\"{}: {}\".format(message['role'], message['content']))",
      "metadata": {
        "trusted": true
      },
      "outputs": [],
      "execution_count": null
    },
    {
      "cell_type": "code",
      "source": "# Ahora use story_made como contexto para un nuevo prompt\nprocess_text_to_image = \"En base a la respuesta anterior crea un prompt que pueda generar una imagen que represente la identidad estética y visual de la startup realizando un logo\"\n# Agrega el nuevo mensaje de usuario con story_made como contexto\nconversation.append({\"role\": \"user\", \"content\": process_text_to_image})\n\n# Realiza la solicitud del nuevo prompt\nresponse = openai.ChatCompletion.create(\n    model='gpt-3.5-turbo',\n    messages=conversation,\n    max_tokens=500\n)\n\n# Obtiene y imprime la nueva historia\nimg_prompt = response['choices'][0]['message']['content'].strip()\nprint(\"Logo de la marca:\", img_prompt)",
      "metadata": {
        "trusted": true
      },
      "outputs": [],
      "execution_count": null
    },
    {
      "cell_type": "code",
      "source": "# Ahora use story_made como contexto para un nuevo prompt\nimage_from_scenario = f\"En base a la respuesta anterior, crea una imagen que represente la startup: {img_prompt}\"\n\n# Agrega el nuevo mensaje de usuario con el prompt de la imagen\nconversation.append({\"role\": \"user\", \"content\": image_from_scenario})\n\n# Realiza la solicitud de la imagen del prompt\nimage_response = openai.Image.create(\n    prompt=image_from_scenario,\n    n=1,\n    size=\"1024x1024\"\n)\n\n# Obtiene y imprime la URL de la imagen generada\nprint(image_response['data'][0]['url'])",
      "metadata": {
        "trusted": true
      },
      "outputs": [],
      "execution_count": null
    },
    {
      "cell_type": "code",
      "source": "",
      "metadata": {
        "trusted": true
      },
      "outputs": [],
      "execution_count": null
    },
    {
      "cell_type": "code",
      "source": "",
      "metadata": {
        "trusted": true
      },
      "outputs": [],
      "execution_count": null
    },
    {
      "cell_type": "code",
      "source": "",
      "metadata": {
        "trusted": true
      },
      "outputs": [],
      "execution_count": null
    },
    {
      "cell_type": "code",
      "source": "",
      "metadata": {
        "trusted": true
      },
      "outputs": [],
      "execution_count": null
    },
    {
      "cell_type": "code",
      "source": "",
      "metadata": {
        "trusted": true
      },
      "outputs": [],
      "execution_count": null
    }
  ]
}